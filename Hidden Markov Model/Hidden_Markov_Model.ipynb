{
  "nbformat": 4,
  "nbformat_minor": 0,
  "metadata": {
    "colab": {
      "provenance": []
    },
    "kernelspec": {
      "name": "python3",
      "display_name": "Python 3"
    },
    "language_info": {
      "name": "python"
    }
  },
  "cells": [
    {
      "cell_type": "code",
      "execution_count": null,
      "metadata": {
        "id": "4yCZpL7PGS7i"
      },
      "outputs": [],
      "source": [
        "### CELL 1: Import Python packages ###\n",
        "import os\n",
        "from typing import Tuple, Union\n",
        "\n",
        "# Data and arithmetic packages\n",
        "import numpy as np\n",
        "\n",
        "# Music analysis packages\n",
        "from music21 import *"
      ]
    },
    {
      "cell_type": "code",
      "source": [
        "DATA_DIR = \"\" # e.g. \"C:/midi-music\"\n",
        "OBS = {\n",
        "    \"OBS1\": [\"<NOTE>\", \"<CHORD>\", \"<NOTE>\", \"<NOTE>\", \"<REST>\", \"<NOTE>\", \"<NOTE>\", \"<NOTE>\", \"<CHORD>\", \"<NOTE>\", \"<REST>\", \"<NOTE>\", \"<NOTE>\", \"<NOTE>\", \"<CHORD>\"],\n",
        "    \"OBS2\": [\"<CHORD>\", \"<CHORD>\", \"<CHORD>\", \"<CHORD>\", \"<NOTE>\", \"<CHORD>\", \"<CHORD>\", \"<REST>\", \"<CHORD>\", \"<REST>\", \"<CHORD>\", \"<REST>\", \"<NOTE>\", \"<CHORD>\", \"<REST>\"],\n",
        "    \"OBS3\": [\"<REST>\", \"<NOTE>\", \"<REST>\", \"<NOTE>\", \"<REST>\", \"<NOTE>\", \"<CHORD>\", \"<NOTE>\", \"<NOTE>\", \"<CHORD>\", \"<REST>\", \"<NOTE>\", \"<REST>\", \"<NOTE>\", \"<NOTE>\"],\n",
        "    \"OBS4\": [\"<REST>\", \"<NOTE>\", \"<CHORD>\", \"<NOTE>\", \"<CHORD>\", \"<NOTE>\", \"<NOTE>\", \"<REST>\", \"<CHORD>\", \"<REST>\", \"<CHORD>\", \"<NOTE>\", \"<NOTE>\", \"<NOTE>\", \"<CHORD>\"]\n",
        "}\n",
        "USE_OBS = OBS[\"OBS3\"]"
      ],
      "metadata": {
        "id": "MbwsDrs9GsoJ"
      },
      "execution_count": null,
      "outputs": []
    },
    {
      "cell_type": "code",
      "source": [
        "def load_data() -> list:\n",
        "    scores = []\n",
        "    DATA_DIR='/content/drive/MyDrive/midi-music'\n",
        "    for filename in os.listdir(DATA_DIR):\n",
        "        if filename.endswith(\".mid\"):\n",
        "            filepath = DATA_DIR + '/' + filename\n",
        "            midi = converter.parse(filepath)\n",
        "            scores.append(midi)\n",
        "    return scores"
      ],
      "metadata": {
        "id": "s29755YgIeRq"
      },
      "execution_count": null,
      "outputs": []
    },
    {
      "cell_type": "code",
      "source": [
        "scores=load_data()"
      ],
      "metadata": {
        "id": "dzpIcAzQIlAD"
      },
      "execution_count": null,
      "outputs": []
    },
    {
      "cell_type": "code",
      "source": [
        "scores"
      ],
      "metadata": {
        "colab": {
          "base_uri": "https://localhost:8080/"
        },
        "id": "fTTSn8w1pNBO",
        "outputId": "af660c61-a323-450f-ba28-644bcd531f02"
      },
      "execution_count": null,
      "outputs": [
        {
          "output_type": "execute_result",
          "data": {
            "text/plain": [
              "[<music21.stream.Score 0x7ce727606c90>,\n",
              " <music21.stream.Score 0x7ce726413810>,\n",
              " <music21.stream.Score 0x7ce7267c3e10>,\n",
              " <music21.stream.Score 0x7ce723812c10>]"
            ]
          },
          "metadata": {},
          "execution_count": 10
        }
      ]
    },
    {
      "cell_type": "code",
      "source": [
        "def get_indices_of_measures_and_musical_elements_by_score(scores: list) -> Tuple[list, list]:\n",
        "    all_scores_elements = []\n",
        "    indices_of_all_measures = []\n",
        "    for score in scores:\n",
        "        elements = [element for element in score.recurse()]\n",
        "        measures = []\n",
        "        for e in range(len(elements)):\n",
        "            if isinstance(elements[e], stream.Measure):\n",
        "                measures.append(e)\n",
        "        indices_of_all_measures.append(measures)\n",
        "        all_scores_elements.append(elements)\n",
        "    return indices_of_all_measures, all_scores_elements"
      ],
      "metadata": {
        "id": "WnVg87yIJP_s"
      },
      "execution_count": null,
      "outputs": []
    },
    {
      "cell_type": "code",
      "source": [
        "indices_of_all_measures, all_scores_elements = get_indices_of_measures_and_musical_elements_by_score(scores)"
      ],
      "metadata": {
        "id": "RiVZvGq0Ktpt"
      },
      "execution_count": null,
      "outputs": []
    },
    {
      "cell_type": "code",
      "source": [
        "def extract_musical_elements(all_scores_elements: list, indices_of_all_measures: list) -> dict:\n",
        "    def normalize_duration(duration: Union[float, duration.Duration]) -> float:\n",
        "        _duration = duration\n",
        "        if type(_duration) is not float:\n",
        "            _duration = float(_duration)\n",
        "        return round(_duration, 2)\n",
        "\n",
        "    def normalize_volume(volume: float) -> float:\n",
        "        return round(float(volume), 1)\n",
        "\n",
        "    elements_by_measure_by_score = {}\n",
        "    num_measures = 0\n",
        "    len_all_measures = 0\n",
        "    for s in range(len(all_scores_elements)):\n",
        "        elements_by_measure_by_score[s] = {}\n",
        "\n",
        "        # Extract the musical elements of this score\n",
        "        elements = all_scores_elements[s]\n",
        "        indices = indices_of_all_measures[s]\n",
        "        i = 0 # Measure counter\n",
        "        while True:\n",
        "            measure = []\n",
        "            start = indices[i]\n",
        "            end = indices[i + 1]\n",
        "            for e in range(start + 1, end):\n",
        "                element_props = None\n",
        "                if isinstance(elements[e], note.Rest):\n",
        "                    element_props = {\"name\": \"<REST>\", \"duration\": normalize_duration(elements[e].quarterLength)}\n",
        "                if isinstance(elements[e], note.Note):\n",
        "                    element_props = {\"name\": \"<NOTE>\", \"pitch\": str(elements[e].pitch), \"duration\": normalize_duration(elements[e].quarterLength)}\n",
        "                if isinstance(elements[e], chord.Chord):\n",
        "                    element_props = {\"name\": \"<CHORD>\", \"notes\": [], \"duration\": normalize_duration(elements[e].duration.quarterLength)}\n",
        "                    for chord_note in elements[e].notes:\n",
        "                          element_props[\"notes\"].append(str(chord_note.pitch))\n",
        "                if not element_props == None:\n",
        "                    measure.append(element_props)\n",
        "            elements_by_measure_by_score[s][i] = measure\n",
        "            num_measures += 1\n",
        "            len_all_measures += len(measure)\n",
        "            if i + 1 == len(indices_of_all_measures[s]) - 1:\n",
        "                break\n",
        "            else:\n",
        "                i += 1\n",
        "\n",
        "    avg_measure_len = round(len_all_measures/num_measures)\n",
        "    return elements_by_measure_by_score, avg_measure_len"
      ],
      "metadata": {
        "id": "fb7sPxZMLpHz"
      },
      "execution_count": null,
      "outputs": []
    },
    {
      "cell_type": "code",
      "source": [
        "elements_by_measure_by_score, avg_measure_len = extract_musical_elements(all_scores_elements, indices_of_all_measures)"
      ],
      "metadata": {
        "id": "dS9_5qNKM4HN"
      },
      "execution_count": null,
      "outputs": []
    },
    {
      "cell_type": "code",
      "source": [
        "def get_unique_elements_and_freqs(elements_by_measure_by_score: dict) -> Tuple[dict, dict, dict]:\n",
        "    unique_elems = {}\n",
        "    freqs = {}\n",
        "    key = -1\n",
        "\n",
        "    for score in elements_by_measure_by_score:\n",
        "        for measure in elements_by_measure_by_score[score]:\n",
        "            elements = elements_by_measure_by_score[score][measure]\n",
        "            for element in elements:\n",
        "                if element not in list(unique_elems.values()):\n",
        "                    # Create a new key for this element\n",
        "                    key += 1\n",
        "\n",
        "                    # Add this element to unique elements\n",
        "                    unique_elems[key] = element\n",
        "\n",
        "                    # Add this element to `freqs` dictionary\n",
        "                    freqs[key] = 1\n",
        "                else:\n",
        "                    # Get the key for this element\n",
        "                    key_for_this_element = list(unique_elems.values()).index(element)\n",
        "\n",
        "                    # Update the frequency in the `freqs` dictionary\n",
        "                    freqs[key_for_this_element] += 1\n",
        "\n",
        "    return unique_elems, freqs"
      ],
      "metadata": {
        "id": "G5fyzJehNRLR"
      },
      "execution_count": null,
      "outputs": []
    },
    {
      "cell_type": "code",
      "source": [
        "unique_elems, freqs = get_unique_elements_and_freqs(elements_by_measure_by_score)"
      ],
      "metadata": {
        "id": "GcJ7NjYdN-Yh"
      },
      "execution_count": null,
      "outputs": []
    },
    {
      "cell_type": "code",
      "source": [
        "def calculate_initial_probability_distribution(elements_by_measure_by_score: dict[dict[list]], unique_elems: dict) -> np.ndarray:\n",
        "    num_elements = len(unique_elems)\n",
        "    I = np.zeros((num_elements))\n",
        "    count = 0\n",
        "\n",
        "    for score in elements_by_measure_by_score:\n",
        "        for measure in elements_by_measure_by_score[score]:\n",
        "            first_element = elements_by_measure_by_score[score][measure][0]\n",
        "            first_element_key = list(unique_elems.values()).index(first_element)\n",
        "            I[first_element_key] += 1\n",
        "            count += 1\n",
        "\n",
        "    I = I/count\n",
        "\n",
        "    return I"
      ],
      "metadata": {
        "id": "HnQGUNADOTIW"
      },
      "execution_count": null,
      "outputs": []
    },
    {
      "cell_type": "code",
      "source": [
        "I = calculate_initial_probability_distribution(elements_by_measure_by_score, unique_elems)"
      ],
      "metadata": {
        "id": "cCasHA7yQFQb"
      },
      "execution_count": null,
      "outputs": []
    },
    {
      "cell_type": "code",
      "source": [
        "print(I.sum())"
      ],
      "metadata": {
        "colab": {
          "base_uri": "https://localhost:8080/"
        },
        "id": "oTzlYZkHQJpH",
        "outputId": "a2ac2100-2031-4250-cb93-51842ef04ab8"
      },
      "execution_count": null,
      "outputs": [
        {
          "output_type": "stream",
          "name": "stdout",
          "text": [
            "1.0\n"
          ]
        }
      ]
    },
    {
      "cell_type": "code",
      "source": [
        "### CELL 13: Utility function to generate transition probability matrix ###\n",
        "def calculate_transition_probability_matrix(elements_by_measure_by_score: dict, unique_elems: dict) -> np.ndarray:\n",
        "    num_elements = len(unique_elems)\n",
        "    A = np.zeros((num_elements, num_elements), dtype = \"float32\")\n",
        "\n",
        "    for key in range(0, len(unique_elems)):\n",
        "        unique_element = unique_elems[key]\n",
        "        count = 0\n",
        "        for score in elements_by_measure_by_score:\n",
        "            for m_index in range(len(elements_by_measure_by_score[score])):\n",
        "                elements = elements_by_measure_by_score[score][m_index]\n",
        "                for e_index in range(len(elements)):\n",
        "                    element = elements[e_index]\n",
        "                    if element == unique_element:\n",
        "                        count += 1\n",
        "                        if e_index < len(elements) - 1:\n",
        "                            next_element = elements[e_index + 1]\n",
        "                        elif m_index < len(elements_by_measure_by_score[score]) - 1:\n",
        "                            next_element = elements_by_measure_by_score[score][m_index + 1][0]\n",
        "                        else:\n",
        "                            # The last element of the last measure of every score won't have a succeeding musical element.\n",
        "                            # Arbitrarily assign `next_element` to a half note rest.\n",
        "                            next_element = {'name': '<REST>', 'duration': 2.0}\n",
        "                        next_key = list(unique_elems.values()).index(next_element)\n",
        "                        A[key, next_key] += 1\n",
        "        A[key, :] = A[key, :]/count\n",
        "    return A"
      ],
      "metadata": {
        "id": "cnvJINwzQOD5"
      },
      "execution_count": null,
      "outputs": []
    },
    {
      "cell_type": "code",
      "source": [
        "A = calculate_transition_probability_matrix(elements_by_measure_by_score, unique_elems)"
      ],
      "metadata": {
        "id": "DbPF9iPISU4a"
      },
      "execution_count": null,
      "outputs": []
    },
    {
      "cell_type": "code",
      "source": [
        "### CELL 15: Utility function to generate emission probability matrix ###\n",
        "def calculate_emission_probability_matrix(unique_elems: dict, OBS: list) -> np.ndarray:\n",
        "    num_elements = len(unique_elems)\n",
        "    B = np.zeros((num_elements, len(OBS)), dtype = \"float32\")\n",
        "    for key in unique_elems:\n",
        "        emitting_element = unique_elems[key]\n",
        "        for o in range(len(OBS)):\n",
        "            observation = OBS[o]\n",
        "            if emitting_element[\"name\"] == observation:\n",
        "                prob = 1\n",
        "            else:\n",
        "                prob = 0\n",
        "            B[key, o] = prob\n",
        "    return B"
      ],
      "metadata": {
        "id": "aewM9T2vS3YF"
      },
      "execution_count": null,
      "outputs": []
    },
    {
      "cell_type": "code",
      "source": [
        "B = calculate_emission_probability_matrix(unique_elems, USE_OBS)"
      ],
      "metadata": {
        "id": "si1LvvmbTLIv"
      },
      "execution_count": null,
      "outputs": []
    },
    {
      "cell_type": "code",
      "source": [
        "def viterbi(OBS, unique_elems, I, A, B):\n",
        "    states = list(unique_elems.keys())\n",
        "    S = len(states)\n",
        "    T = len(OBS)\n",
        "\n",
        "    viterbi_lattice = np.zeros((S, T))\n",
        "    backpointer_matrix = np.zeros((S, T))\n",
        "\n",
        "    for state in range(len(states)):\n",
        "        prob = I[state] * B[state][0]\n",
        "        viterbi_lattice[state][0] = prob\n",
        "        backpointer_matrix[state][0] = 0\n",
        "\n",
        "    for t in range(1, len(OBS)):\n",
        "        for state in range(0, len(states)):\n",
        "            max_prob = 0\n",
        "            argmax = 0\n",
        "            for state_prior in range(len(states)):\n",
        "                prob = viterbi_lattice[state_prior][t - 1] * A[state_prior][state] * B[state][t]\n",
        "                if prob > max_prob:\n",
        "                    max_prob = prob\n",
        "                    argmax = state_prior\n",
        "            viterbi_lattice[state][t] = max_prob\n",
        "            backpointer_matrix[state][t] = argmax\n",
        "    return viterbi_lattice, backpointer_matrix"
      ],
      "metadata": {
        "id": "Ns00XcTKTNjY"
      },
      "execution_count": null,
      "outputs": []
    },
    {
      "cell_type": "code",
      "source": [
        "viterbi_lattice, backpointer_matrix = viterbi(USE_OBS, unique_elems, I, A, B)"
      ],
      "metadata": {
        "id": "AAUpPD4Kid98"
      },
      "execution_count": null,
      "outputs": []
    },
    {
      "cell_type": "code",
      "source": [
        "### CELL 19: Utility method to read out best path from Viterbi lattice and backpointer matrix ###\n",
        "def read_best_path(OBS, unique_elems, viterbi_lattice, backpointer_matrix):\n",
        "    elements = []\n",
        "\n",
        "    # Get musical elements for observations in range 1 through len(OBS) starting from the back.\n",
        "    for t in range(len(OBS) - 1, 0, -1):\n",
        "        max = 0\n",
        "        argmax = 0\n",
        "        for s in range(viterbi_lattice.shape[0]):\n",
        "            val = viterbi_lattice[s][t]\n",
        "            if val > max:\n",
        "                max = val\n",
        "                argmax = s\n",
        "        elem_key = backpointer_matrix[argmax][t]\n",
        "        elem = unique_elems[elem_key]\n",
        "        elements.append(elem)\n",
        "\n",
        "    # Get state for first observation.\n",
        "    max_start = 0\n",
        "    argmax_start = 0\n",
        "    for s in range(viterbi_lattice.shape[0]):\n",
        "        val = viterbi_lattice[s][0]\n",
        "        if val > max_start:\n",
        "            max_start = val\n",
        "            argmax_start = s\n",
        "    start_elem = unique_elems[argmax_start]\n",
        "    elements.append(start_elem)\n",
        "\n",
        "\n",
        "    elements.reverse()\n",
        "    return elements"
      ],
      "metadata": {
        "id": "PLYh3KVmUI0k"
      },
      "execution_count": null,
      "outputs": []
    },
    {
      "cell_type": "code",
      "source": [
        "elements = read_best_path(OBS, unique_elems, viterbi_lattice, backpointer_matrix)"
      ],
      "metadata": {
        "id": "J3bYy0rNiaf1"
      },
      "execution_count": null,
      "outputs": []
    },
    {
      "cell_type": "code",
      "source": [
        "### CELL 21: Utility function to generate MIDI stream from generated musical elements ###\n",
        "def generate_midi_stream(elements: list) -> Tuple[list, stream.Stream]:\n",
        "    music = []\n",
        "    for element in elements:\n",
        "        if element[\"name\"] == \"<REST>\":\n",
        "            m = note.Rest()\n",
        "            m.duration.quarterLength = element[\"duration\"]\n",
        "        if element[\"name\"] == \"<CHORD>\":\n",
        "            m = chord.Chord(element[\"notes\"])\n",
        "            m.duration.quarterLength = element[\"duration\"]\n",
        "        if element[\"name\"] == \"<NOTE>\":\n",
        "            m = note.Note(element[\"pitch\"])\n",
        "            m.duration.quarterLength = element[\"duration\"]\n",
        "        music.append(m)\n",
        "    midi_stream = stream.Stream(music)\n",
        "    return music, midi_stream"
      ],
      "metadata": {
        "id": "yUOLOYp9XAtX"
      },
      "execution_count": null,
      "outputs": []
    },
    {
      "cell_type": "code",
      "source": [
        "### CELL 22: Generating MIDI stream from generated musical elements ###\n",
        "music, midi_stream = generate_midi_stream(elements)"
      ],
      "metadata": {
        "id": "wKzrhKtRuNKW"
      },
      "execution_count": null,
      "outputs": []
    },
    {
      "cell_type": "code",
      "source": [
        "### CELL 23: Writing MIDI data to disk ###\n",
        "FILENAME = \"hmm_music_exp.mid\"\n",
        "midi_stream.write(\"midi\", FILENAME)"
      ],
      "metadata": {
        "id": "RIALj8JnYS7o"
      },
      "execution_count": null,
      "outputs": []
    }
  ]
}